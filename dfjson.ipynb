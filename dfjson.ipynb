{
 "cells": [
  {
   "cell_type": "code",
   "execution_count": 5,
   "metadata": {},
   "outputs": [
    {
     "name": "stdout",
     "output_type": "stream",
     "text": [
      "<class 'honeybee_energy.constructionset.ConstructionSet'>\n"
     ]
    }
   ],
   "source": [
    "import dragonfly\n",
    "import dragonfly_energy\n",
    "from dragonfly.model import Model\n",
    "from dragonfly.story import Story\n",
    "from dragonfly.room2d import Room2D\n",
    "\n",
    "from dragonfly_doe2 import doe\n",
    "from dragonfly_doe2.doe import floor_space\n",
    "import sys\n",
    "import os\n",
    "import json\n",
    "\n",
    "\n",
    "def make_model(_dfjson):\n",
    "    mod = Model.from_file(_dfjson)\n",
    "    return mod\n",
    "\n",
    "test_model = make_model('assets\\\\reference_dfm\\\\holes_test.dfjson')\n",
    "test_model.to_rectangular_windows()\n",
    "#story1 = test_model.stories[0]\n",
    "#rm1 = story1.room_2ds[0]\n",
    "\n",
    "for story in test_model.stories:\n",
    "    print(type(story.properties.energy.construction_set))\n",
    "\n"
   ]
  },
  {
   "cell_type": "code",
   "execution_count": 7,
   "metadata": {},
   "outputs": [
    {
     "name": "stdout",
     "output_type": "stream",
     "text": [
      "<class 'dragonfly.windowparameter.RectangularWindows'>\n"
     ]
    }
   ],
   "source": [
    "wn1 = win[0]\n",
    "\n",
    "print(type(wn1))"
   ]
  },
  {
   "cell_type": "code",
   "execution_count": 2,
   "metadata": {},
   "outputs": [
    {
     "name": "stdout",
     "output_type": "stream",
     "text": [
      "Unsupported type: <class 'honeybee_energy.construction.window.WindowConstruction'>.\n",
      "Currently only OpaqueConstruction type is supported.\n",
      "Unsupported type: <class 'honeybee_energy.construction.window.WindowConstruction'>.\n",
      "Currently only OpaqueConstruction type is supported.\n",
      "Unsupported type: <class 'honeybee_energy.construction.window.WindowConstruction'>.\n",
      "Currently only OpaqueConstruction type is supported.\n"
     ]
    },
    {
     "data": {
      "text/plain": [
       "WindowsPath('assets/test_output_inps/big_test-model.inp')"
      ]
     },
     "execution_count": 2,
     "metadata": {},
     "output_type": "execute_result"
    }
   ],
   "source": [
    "import pathlib\n",
    "import sys\n",
    "import os\n",
    "\n",
    "from dragonfly_doe2.writer import model_to_inp\n",
    "from dragonfly.model import Model\n",
    "#\"D:/__A1_LBT_DEV/___a1___dfdoe2/University Campus.dfjson\"\n",
    "\n",
    "df_json = \"assets\\\\reference_dfm\\\\BigTest.dfjson\"#\"D:/__A1_LBT_DEV/___a1___dfdoe2/University Campus.dfjson\"#\"assets\\\\reference_dfm\\\\asym2_w_cons.dfjson\"#\"assets\\\\reference_dfm\\\\eq_rotate_control.dfjson\" #'assets/reference_dfm/complex_model_with_bcs.dfjson'\n",
    "out_inp = 'assets/test_output_inps'\n",
    "out_file = pathlib.Path(out_inp, 'big_test-model.inp')\n",
    "df_model = Model.from_dfjson(dfjson_file=df_json)\n",
    "a = model_to_inp(df_model, folder=out_inp, name='big_test-model.inp')\n",
    "a\n",
    "\n"
   ]
  },
  {
   "cell_type": "code",
   "execution_count": 1,
   "metadata": {},
   "outputs": [],
   "source": [
    "#  Initial\n",
    "\n",
    "def lower_left_properties(room_2d):\n",
    "    \"\"\"Get the vertices, boundary conditions and windows starting from lower left.\"\"\"\n",
    "    floor_geo = room_2d.floor_geometry\n",
    "    start_pt = floor_geo.vertices[0]\n",
    "    min_y, min_x, pt_i = start_pt.y, start_pt.x, 0\n",
    "    for i, pt in enumerate(floor_geo.vertices):\n",
    "        if pt.y < min_y:\n",
    "            min_y, min_x = pt.y, pt.x\n",
    "            pt_i = i\n",
    "        elif pt.y == min_y:\n",
    "            if pt.x < min_x:\n",
    "                min_y, min_x = pt.y, pt.x\n",
    "                pt_i = i\n",
    "    verts = floor_geo.vertices[pt_i:] + floor_geo.vertices[:pt_i]\n",
    "    bcs = room_2d.boundary_conditions[pt_i:] + room_2d.boundary_conditions[:pt_i]\n",
    "    w_par = room_2d.window_parameters[pt_i:] + room_2d.window_parameters[:pt_i]\n",
    "    return (verts, bcs, w_par)"
   ]
  },
  {
   "cell_type": "code",
   "execution_count": null,
   "metadata": {},
   "outputs": [],
   "source": [
    "# New\n",
    "def lower_left_properties(room_2d):\n",
    "    \"\"\"Get the vertices, boundary conditions and windows starting from lower left.\"\"\"\n",
    "    floor_geo = room_2d.floor_geometry\n",
    "    start_pt = floor_geo.boundary[0]\n",
    "    min_y, min_x, pt_i = start_pt.y, start_pt.x, 0\n",
    "    for i, pt in enumerate(floor_geo.boundary):\n",
    "        if pt.y < min_y:\n",
    "            min_y, min_x = pt.y, pt.x\n",
    "            pt_i = i\n",
    "        elif pt.y == min_y:\n",
    "            if pt.x < min_x:\n",
    "                min_y, min_x = pt.y, pt.x\n",
    "                pt_i = i\n",
    "    verts = floor_geo.boundary[pt_i:] + floor_geo.boundary[:pt_i]\n",
    "    if floor_geo.has_holes:\n",
    "        bcs = room_2d.boundary_conditions[:len(floor_geo.boundary)]\n",
    "        w_par = room_2d.window_parameters[:len(floor_geo.boundary)]\n",
    "    else:\n",
    "        bcs = room_2d.boundary_conditions\n",
    "        w_par = room_2d.window_parameters\n",
    "    bcs = bcs[pt_i:] + bcs[:pt_i]\n",
    "    w_par = w_par[pt_i:] + w_par[:pt_i]\n",
    "    \n",
    "    return (verts, bcs, w_par)\n",
    "\n",
    "doe2_verts, doe2_bcs, doe2_windows = lower_left_properties(room_2d)"
   ]
  },
  {
   "cell_type": "code",
   "execution_count": null,
   "metadata": {},
   "outputs": [],
   "source": [
    "def get_segs(_rm):\n",
    "    segments = _rm.floor_segments\n",
    "    bcs = _rm.boundary_conditions\n",
    "    start_vert = _rm.floor_geometry.lower_left_counter_clockwise_vertices[0]\n",
    "    \n",
    "    for i, seg in enumerate(segments):\n",
    "        if seg.p == start_vert:\n",
    "            break\n",
    "    \n",
    "    segments = segments[i:] + segments[:i]\n",
    "    bcs = bcs[i:] + bcs[:i]\n",
    "    return(bcs)\n",
    "\n",
    "win = [param for param in rm1.window_parameters]\n",
    "bclst = get_segs(rm1)\n",
    "\n",
    "print(win, bclst)"
   ]
  }
 ],
 "metadata": {
  "interpreter": {
   "hash": "b3e87ce88a8455777fcf05900ffd27ec10447b273455023454e0b0b112519aa7"
  },
  "kernelspec": {
   "display_name": "Python 3.9.5 64-bit ('.env': venv)",
   "language": "python",
   "name": "python3"
  },
  "language_info": {
   "codemirror_mode": {
    "name": "ipython",
    "version": 3
   },
   "file_extension": ".py",
   "mimetype": "text/x-python",
   "name": "python",
   "nbconvert_exporter": "python",
   "pygments_lexer": "ipython3",
   "version": "3.9.5"
  },
  "orig_nbformat": 4
 },
 "nbformat": 4,
 "nbformat_minor": 2
}
