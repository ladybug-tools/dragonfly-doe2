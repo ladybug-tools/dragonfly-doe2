{
 "cells": [
  {
   "cell_type": "code",
   "execution_count": 9,
   "metadata": {},
   "outputs": [
    {
     "name": "stdout",
     "output_type": "stream",
     "text": [
      "Construction,\n",
      " U 0.36 SHGC 0.38 Simple Glazing Window, !- name\n",
      " U 0.36 SHGC 0.38 Simple Glazing; !- layer 1\n"
     ]
    }
   ],
   "source": [
    "import dragonfly\n",
    "import dragonfly_energy\n",
    "from dragonfly.model import Model\n",
    "from dragonfly.story import Story\n",
    "from dragonfly.room2d import Room2D\n",
    "\n",
    "from dragonfly_doe2 import doe\n",
    "from dragonfly_doe2.doe import floor_space\n",
    "import sys\n",
    "import os\n",
    "import json\n",
    "\n",
    "def lower_left_properties(room_2d):\n",
    "    \"\"\"Get the vertices, boundary conditions and windows starting from lower left.\n",
    "    v2 WIP\n",
    "    \"\"\"\n",
    "    w_const_name = room_2d.properties.energy.construction_set.aperture_set.window_construction.display_name\n",
    "    floor_geo = room_2d.floor_geometry\n",
    "    start_pt = floor_geo.boundary[0]\n",
    "    min_y, min_x, pt_i = start_pt.y, start_pt.x, 0\n",
    "    for i, pt in enumerate(floor_geo.boundary):\n",
    "        if pt.y < min_y:\n",
    "            min_y, min_x = pt.y, pt.x\n",
    "            pt_i = i\n",
    "        elif pt.y == min_y:\n",
    "            if pt.x < min_x:\n",
    "                min_y, min_x = pt.y, pt.x\n",
    "                pt_i = i\n",
    "    verts = floor_geo.boundary[pt_i:] + floor_geo.boundary[:pt_i]\n",
    "    if floor_geo.has_holes:\n",
    "        bcs = room_2d.boundary_conditions[:len(floor_geo.boundary)]\n",
    "        w_par = room_2d.window_parameters[:len(floor_geo.boundary)]\n",
    "    else:\n",
    "        bcs = room_2d.boundary_conditions\n",
    "        w_par = room_2d.window_parameters\n",
    "    bcs = bcs[pt_i:] + bcs[:pt_i]\n",
    "    w_par = w_par[pt_i:] + w_par[:pt_i]\n",
    "    return (verts, bcs, w_par, w_const_name)\n",
    "\n",
    "def make_model(_dfjson):\n",
    "    mod = Model.from_file(_dfjson)\n",
    "    return mod\n",
    "\n",
    "test_model = make_model('assets\\\\reference_dfm\\\\complex_model_with_bcs.dfjson')\n",
    "test_model.to_rectangular_windows()\n",
    "story1 = test_model.stories[0]\n",
    "rm1 = story1.room_2ds[0]\n",
    "\n",
    "for con_set in test_model.properties.energy.construction_sets:\n",
    "     print(con_set.aperture_set.window_construction)\n",
    "        \n",
    "\n"
   ]
  },
  {
   "cell_type": "code",
   "execution_count": 7,
   "metadata": {},
   "outputs": [
    {
     "name": "stdout",
     "output_type": "stream",
     "text": [
      "<class 'dragonfly.windowparameter.RectangularWindows'>\n"
     ]
    }
   ],
   "source": [
    "wn1 = win[0]\n",
    "\n",
    "print(type(wn1))"
   ]
  },
  {
   "cell_type": "code",
   "execution_count": 11,
   "metadata": {},
   "outputs": [
    {
     "ename": "AttributeError",
     "evalue": "'str' object has no attribute 'rooms'",
     "output_type": "error",
     "traceback": [
      "\u001b[1;31m---------------------------------------------------------------------------\u001b[0m",
      "\u001b[1;31mAttributeError\u001b[0m                            Traceback (most recent call last)",
      "\u001b[1;32m~\\AppData\\Local\\Temp/ipykernel_2660/1598043012.py\u001b[0m in \u001b[0;36m<module>\u001b[1;34m\u001b[0m\n\u001b[0;32m     18\u001b[0m \u001b[1;32mfrom\u001b[0m \u001b[0mdragonfly\u001b[0m\u001b[1;33m.\u001b[0m\u001b[0mmodel\u001b[0m \u001b[1;32mimport\u001b[0m \u001b[0mModel\u001b[0m\u001b[1;33m\u001b[0m\u001b[1;33m\u001b[0m\u001b[0m\n\u001b[0;32m     19\u001b[0m \u001b[1;33m\u001b[0m\u001b[0m\n\u001b[1;32m---> 20\u001b[1;33m \u001b[0mdf_model\u001b[0m \u001b[1;33m=\u001b[0m \u001b[0mModel\u001b[0m\u001b[1;33m.\u001b[0m\u001b[0mfrom_honeybee\u001b[0m\u001b[1;33m(\u001b[0m\u001b[1;34m'assets\\\\reference_hbjson\\\\PollinationModel.hbjson'\u001b[0m\u001b[1;33m)\u001b[0m\u001b[1;33m\u001b[0m\u001b[1;33m\u001b[0m\u001b[0m\n\u001b[0m\u001b[0;32m     21\u001b[0m \u001b[0mdf_json\u001b[0m \u001b[1;33m=\u001b[0m \u001b[0mdf_model\u001b[0m\u001b[1;33m.\u001b[0m\u001b[0mto_dfjson\u001b[0m\u001b[1;33m(\u001b[0m\u001b[0mfolder\u001b[0m\u001b[1;33m=\u001b[0m\u001b[1;34m'assets\\\\reference_dfm'\u001b[0m\u001b[1;33m,\u001b[0m \u001b[0mname\u001b[0m\u001b[1;33m=\u001b[0m\u001b[1;34m'REVITTEST'\u001b[0m\u001b[1;33m)\u001b[0m\u001b[1;33m\u001b[0m\u001b[1;33m\u001b[0m\u001b[0m\n\u001b[0;32m     22\u001b[0m \u001b[0mout_inp\u001b[0m \u001b[1;33m=\u001b[0m \u001b[1;34m'assets/test_output_inps'\u001b[0m\u001b[1;33m\u001b[0m\u001b[1;33m\u001b[0m\u001b[0m\n",
      "\u001b[1;32md:\\__A1_LBT_DEV\\dragonfly-doe2\\.env\\lib\\site-packages\\dragonfly\\model.py\u001b[0m in \u001b[0;36mfrom_honeybee\u001b[1;34m(cls, model)\u001b[0m\n\u001b[0;32m    284\u001b[0m         \u001b[1;31m# translate the rooms to a dragonfly building\u001b[0m\u001b[1;33m\u001b[0m\u001b[1;33m\u001b[0m\u001b[1;33m\u001b[0m\u001b[0m\n\u001b[0;32m    285\u001b[0m         \u001b[0mbldgs\u001b[0m \u001b[1;33m=\u001b[0m \u001b[1;32mNone\u001b[0m\u001b[1;33m\u001b[0m\u001b[1;33m\u001b[0m\u001b[0m\n\u001b[1;32m--> 286\u001b[1;33m         \u001b[1;32mif\u001b[0m \u001b[0mlen\u001b[0m\u001b[1;33m(\u001b[0m\u001b[0mmodel\u001b[0m\u001b[1;33m.\u001b[0m\u001b[0mrooms\u001b[0m\u001b[1;33m)\u001b[0m \u001b[1;33m!=\u001b[0m \u001b[1;36m0\u001b[0m\u001b[1;33m:\u001b[0m\u001b[1;33m\u001b[0m\u001b[1;33m\u001b[0m\u001b[0m\n\u001b[0m\u001b[0;32m    287\u001b[0m             \u001b[0mbldgs\u001b[0m \u001b[1;33m=\u001b[0m \u001b[1;33m[\u001b[0m\u001b[0mBuilding\u001b[0m\u001b[1;33m.\u001b[0m\u001b[0mfrom_honeybee\u001b[0m\u001b[1;33m(\u001b[0m\u001b[0mmodel\u001b[0m\u001b[1;33m)\u001b[0m\u001b[1;33m]\u001b[0m\u001b[1;33m\u001b[0m\u001b[1;33m\u001b[0m\u001b[0m\n\u001b[0;32m    288\u001b[0m         \u001b[1;31m# translate the orphaned shades to context shades\u001b[0m\u001b[1;33m\u001b[0m\u001b[1;33m\u001b[0m\u001b[1;33m\u001b[0m\u001b[0m\n",
      "\u001b[1;31mAttributeError\u001b[0m: 'str' object has no attribute 'rooms'"
     ]
    }
   ],
   "source": [
    "\n",
    "import pathlib\n",
    "import sys\n",
    "import os\n",
    "import json\n",
    "\n",
    "  # import the core honeybee dependencies\n",
    "import honeybee.dictutil as hb_dict_util\n",
    "from honeybee.model import Model as hb_model\n",
    "from honeybee.config import folders\n",
    "\n",
    "# import the core honeybee_energy dependencies\n",
    "import honeybee_energy.dictutil as energy_dict_util\n",
    "\n",
    "# import the core honeybee_radiance dependencies\n",
    "\n",
    "\n",
    "from dragonfly_doe2.writer import model_to_inp\n",
    "from dragonfly.model import Model\n",
    "\n",
    "df_model = Model.from_honeybee('assets\\\\reference_hbjson\\\\PollinationModel.hbjson')\n",
    "df_json = df_model.to_dfjson(folder='assets\\\\reference_dfm', name='REVITTEST')\n",
    "out_inp = 'assets/test_output_inps'\n",
    "out_file = pathlib.Path(out_inp, 'from_revit_test-model.inp')\n",
    "df_model = Model.from_dfjson(dfjson_file=df_json)\n",
    "a = model_to_inp(df_model, folder=out_inp, name='from_revit_test-model.inp')\n",
    "a\n",
    "\n"
   ]
  },
  {
   "cell_type": "code",
   "execution_count": 2,
   "metadata": {},
   "outputs": [
    {
     "name": "stdout",
     "output_type": "stream",
     "text": [
      "32\n"
     ]
    }
   ],
   "source": [
    "how = \"U 0.36 SHGC 0.38 Smpl Glzng Wndw\"\n",
    "\n",
    "print(len(how))"
   ]
  },
  {
   "cell_type": "code",
   "execution_count": 1,
   "metadata": {},
   "outputs": [
    {
     "name": "stdout",
     "output_type": "stream",
     "text": [
      "Unsupported Construction type: <class 'honeybee_energy.construction.window.WindowConstruction'>.\n",
      "Please be patient as more features and capabilities are implemented.\n",
      "Unsupported Construction type: <class 'honeybee_energy.construction.window.WindowConstruction'>.\n",
      "Please be patient as more features and capabilities are implemented.\n",
      "Unsupported Construction type: <class 'honeybee_energy.construction.window.WindowConstruction'>.\n",
      "Please be patient as more features and capabilities are implemented.\n"
     ]
    },
    {
     "data": {
      "text/plain": [
       "WindowsPath('assets/test_output_inps/nrel_test-model.inp')"
      ]
     },
     "execution_count": 1,
     "metadata": {},
     "output_type": "execute_result"
    }
   ],
   "source": [
    "import pathlib\n",
    "import sys\n",
    "import os\n",
    "\n",
    "from dragonfly_doe2.writer import model_to_inp\n",
    "from dragonfly.model import Model\n",
    "#\"D:/__A1_LBT_DEV/___a1___dfdoe2/University Campus.dfjson\"\n",
    "\n",
    "df_json = \"assets\\\\reference_dfm\\\\lab_from_hb_nodfwindows.dfjson\"#assets\\\\reference_dfm\\\\nrel_lab.dfjson\"\n",
    "out_inp = 'assets/test_output_inps'\n",
    "out_file = pathlib.Path(out_inp, 'nrel_test-model.inp')\n",
    "df_model = Model.from_dfjson(dfjson_file=df_json)\n",
    "a = model_to_inp(df_model, folder=out_inp, name='nrel_test-model.inp')\n",
    "a"
   ]
  },
  {
   "cell_type": "code",
   "execution_count": null,
   "metadata": {},
   "outputs": [],
   "source": []
  }
 ],
 "metadata": {
  "interpreter": {
   "hash": "b3e87ce88a8455777fcf05900ffd27ec10447b273455023454e0b0b112519aa7"
  },
  "kernelspec": {
   "display_name": "Python 3.9.5 64-bit ('.env': venv)",
   "language": "python",
   "name": "python3"
  },
  "language_info": {
   "codemirror_mode": {
    "name": "ipython",
    "version": 3
   },
   "file_extension": ".py",
   "mimetype": "text/x-python",
   "name": "python",
   "nbconvert_exporter": "python",
   "pygments_lexer": "ipython3",
   "version": "3.9.5"
  },
  "orig_nbformat": 4
 },
 "nbformat": 4,
 "nbformat_minor": 2
}
